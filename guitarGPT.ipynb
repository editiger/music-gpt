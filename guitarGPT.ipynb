{
  "cells": [
    {
      "cell_type": "markdown",
      "source": [
        "# **guitarGPT**\n",
        "Debe autorizar el acceso a google Drive y no modificar la ruta de acceso preconfigurada"
      ],
      "metadata": {
        "id": "LqoD9fynSQ8m"
      }
    },
    {
      "cell_type": "code",
      "source": [
        "# @title Google Drive { display-mode: \"form\", run: \"auto\" }\n",
        "\n",
        "from google.colab import drive\n",
        "drive.mount('/content/drive')"
      ],
      "metadata": {
        "id": "A5D5Au3eTBhw"
      },
      "execution_count": null,
      "outputs": []
    },
    {
      "cell_type": "markdown",
      "source": [
        "# Requerimientos\n",
        "\n",
        "Se descargarán los archvivos  e instalarán las librerías necesarias para la ejecución"
      ],
      "metadata": {
        "id": "JTFkS-i8VBdg"
      }
    },
    {
      "cell_type": "code",
      "source": [
        "# @title Archivos de guitarGPT { display-mode: \"form\", run: \"auto\" }\n",
        "\n",
        "!git clone https://github.com/editigerun/guitarGPT"
      ],
      "metadata": {
        "id": "LofkmPBSSL5x"
      },
      "execution_count": null,
      "outputs": []
    },
    {
      "cell_type": "code",
      "execution_count": null,
      "metadata": {
        "id": "uHkKOz-AfP6E"
      },
      "outputs": [],
      "source": [
        "# @title Instalación de librerías requeridas { display-mode: \"form\", run: \"auto\" }\n",
        "\n",
        "!pip install -r ./guitarGPT/requirements.txt"
      ]
    },
    {
      "cell_type": "markdown",
      "source": [
        "# Ejecución del modelo"
      ],
      "metadata": {
        "id": "2W9Kxsu9VyCV"
      }
    },
    {
      "cell_type": "code",
      "execution_count": null,
      "metadata": {
        "id": "61SXkzmSfP-X"
      },
      "outputs": [],
      "source": [
        "# @title Lanzar guitarGPT { display-mode: \"form\", run: \"auto\" }\n",
        "\n",
        "!python ./guitarGPT/interaction.py --model_path decapoda-research/llama-7b-hf --lora_path editigerun/guitarGPT --use_local 1"
      ]
    }
  ],
  "metadata": {
    "colab": {
      "provenance": []
    },
    "kernelspec": {
      "display_name": "Python 3",
      "name": "python3"
    },
    "language_info": {
      "name": "python"
    }
  },
  "nbformat": 4,
  "nbformat_minor": 0
}